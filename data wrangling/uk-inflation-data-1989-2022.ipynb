{
 "cells": [
  {
   "cell_type": "code",
   "execution_count": 1,
   "metadata": {},
   "outputs": [],
   "source": [
    "import pandas as pd\n",
    "from sklearn.experimental import enable_iterative_imputer\n",
    "from sklearn.impute import IterativeImputer\n",
    "from sklearn.impute import KNNImputer\n",
    "import seaborn as sns"
   ]
  },
  {
   "cell_type": "code",
   "execution_count": 20,
   "metadata": {},
   "outputs": [],
   "source": [
    "#Load the dataset into a Pandas DataFrame.\n",
    "df = pd.read_csv(\"./datasets/uk-inflation-data-1989-2022/Inflation by Month.csv\")\n",
    "\n"
   ]
  },
  {
   "cell_type": "code",
   "execution_count": 55,
   "metadata": {},
   "outputs": [],
   "source": [
    "#Convert object data types to float\n",
    "#df[df[\"Year\"]== \" \"]\n",
    "df[\"Year\"] = df[\"Year\"].astype(int)\n",
    "#df[\"Year\"].fillna(0, inplace=True)\n",
    "#df[\"Year\"].isna().sum()"
   ]
  },
  {
   "cell_type": "code",
   "execution_count": 156,
   "metadata": {},
   "outputs": [
    {
     "name": "stdout",
     "output_type": "stream",
     "text": [
      "<class 'pandas.core.frame.DataFrame'>\n",
      "RangeIndex: 416 entries, 0 to 415\n",
      "Data columns (total 3 columns):\n",
      " #   Column     Non-Null Count  Dtype  \n",
      "---  ------     --------------  -----  \n",
      " 0   Year       410 non-null    float64\n",
      " 1   Month      410 non-null    object \n",
      " 2   Inflation  411 non-null    object \n",
      "dtypes: float64(1), object(2)\n",
      "memory usage: 9.9+ KB\n"
     ]
    }
   ],
   "source": [
    "#Show df summary information.\n",
    "df.info()"
   ]
  },
  {
   "cell_type": "code",
   "execution_count": 157,
   "metadata": {},
   "outputs": [
    {
     "data": {
      "text/html": [
       "<div>\n",
       "<style scoped>\n",
       "    .dataframe tbody tr th:only-of-type {\n",
       "        vertical-align: middle;\n",
       "    }\n",
       "\n",
       "    .dataframe tbody tr th {\n",
       "        vertical-align: top;\n",
       "    }\n",
       "\n",
       "    .dataframe thead th {\n",
       "        text-align: right;\n",
       "    }\n",
       "</style>\n",
       "<table border=\"1\" class=\"dataframe\">\n",
       "  <thead>\n",
       "    <tr style=\"text-align: right;\">\n",
       "      <th></th>\n",
       "      <th>Year</th>\n",
       "    </tr>\n",
       "  </thead>\n",
       "  <tbody>\n",
       "    <tr>\n",
       "      <th>count</th>\n",
       "      <td>410.000000</td>\n",
       "    </tr>\n",
       "    <tr>\n",
       "      <th>mean</th>\n",
       "      <td>2005.929268</td>\n",
       "    </tr>\n",
       "    <tr>\n",
       "      <th>std</th>\n",
       "      <td>9.952571</td>\n",
       "    </tr>\n",
       "    <tr>\n",
       "      <th>min</th>\n",
       "      <td>1989.000000</td>\n",
       "    </tr>\n",
       "    <tr>\n",
       "      <th>25%</th>\n",
       "      <td>1997.000000</td>\n",
       "    </tr>\n",
       "    <tr>\n",
       "      <th>50%</th>\n",
       "      <td>2006.000000</td>\n",
       "    </tr>\n",
       "    <tr>\n",
       "      <th>75%</th>\n",
       "      <td>2014.750000</td>\n",
       "    </tr>\n",
       "    <tr>\n",
       "      <th>max</th>\n",
       "      <td>2023.000000</td>\n",
       "    </tr>\n",
       "  </tbody>\n",
       "</table>\n",
       "</div>"
      ],
      "text/plain": [
       "              Year\n",
       "count   410.000000\n",
       "mean   2005.929268\n",
       "std       9.952571\n",
       "min    1989.000000\n",
       "25%    1997.000000\n",
       "50%    2006.000000\n",
       "75%    2014.750000\n",
       "max    2023.000000"
      ]
     },
     "execution_count": 157,
     "metadata": {},
     "output_type": "execute_result"
    }
   ],
   "source": [
    "#Show stats info on numerical columns.\n",
    "df.describe()"
   ]
  },
  {
   "cell_type": "code",
   "execution_count": 158,
   "metadata": {},
   "outputs": [
    {
     "data": {
      "text/html": [
       "<div>\n",
       "<style scoped>\n",
       "    .dataframe tbody tr th:only-of-type {\n",
       "        vertical-align: middle;\n",
       "    }\n",
       "\n",
       "    .dataframe tbody tr th {\n",
       "        vertical-align: top;\n",
       "    }\n",
       "\n",
       "    .dataframe thead th {\n",
       "        text-align: right;\n",
       "    }\n",
       "</style>\n",
       "<table border=\"1\" class=\"dataframe\">\n",
       "  <thead>\n",
       "    <tr style=\"text-align: right;\">\n",
       "      <th></th>\n",
       "      <th>Year</th>\n",
       "      <th>Month</th>\n",
       "      <th>Inflation</th>\n",
       "    </tr>\n",
       "  </thead>\n",
       "  <tbody>\n",
       "    <tr>\n",
       "      <th>0</th>\n",
       "      <td>1989.0</td>\n",
       "      <td>JAN</td>\n",
       "      <td>5.7</td>\n",
       "    </tr>\n",
       "    <tr>\n",
       "      <th>1</th>\n",
       "      <td>NaN</td>\n",
       "      <td>NaN</td>\n",
       "      <td>NaN</td>\n",
       "    </tr>\n",
       "    <tr>\n",
       "      <th>2</th>\n",
       "      <td>1989.0</td>\n",
       "      <td>FEB</td>\n",
       "      <td>5.8</td>\n",
       "    </tr>\n",
       "    <tr>\n",
       "      <th>3</th>\n",
       "      <td>1989.0</td>\n",
       "      <td>MAR</td>\n",
       "      <td>5.9</td>\n",
       "    </tr>\n",
       "    <tr>\n",
       "      <th>4</th>\n",
       "      <td>1989.0</td>\n",
       "      <td>APR</td>\n",
       "      <td>5.6</td>\n",
       "    </tr>\n",
       "  </tbody>\n",
       "</table>\n",
       "</div>"
      ],
      "text/plain": [
       "     Year Month Inflation\n",
       "0  1989.0   JAN       5.7\n",
       "1     NaN   NaN       NaN\n",
       "2  1989.0   FEB       5.8\n",
       "3  1989.0   MAR       5.9\n",
       "4  1989.0   APR       5.6"
      ]
     },
     "execution_count": 158,
     "metadata": {},
     "output_type": "execute_result"
    }
   ],
   "source": [
    "#Display the first few rows of the DataFrame.\n",
    "df.head()"
   ]
  },
  {
   "cell_type": "code",
   "execution_count": 159,
   "metadata": {},
   "outputs": [
    {
     "data": {
      "text/plain": [
       "Year         float64\n",
       "Month         object\n",
       "Inflation     object\n",
       "dtype: object"
      ]
     },
     "execution_count": 159,
     "metadata": {},
     "output_type": "execute_result"
    }
   ],
   "source": [
    "#Check the data types of each column.\n",
    "df.dtypes"
   ]
  },
  {
   "cell_type": "code",
   "execution_count": 161,
   "metadata": {},
   "outputs": [
    {
     "data": {
      "text/plain": [
       "Year         6\n",
       "Month        6\n",
       "Inflation    5\n",
       "dtype: int64"
      ]
     },
     "execution_count": 161,
     "metadata": {},
     "output_type": "execute_result"
    }
   ],
   "source": [
    "#Handling Missing Values:\n",
    "\t#Identify missing values in the dataset.\n",
    "\t\t#Count the number of missing values in each column.\n",
    "\n",
    "df.isna().sum()\n"
   ]
  },
  {
   "cell_type": "code",
   "execution_count": 162,
   "metadata": {},
   "outputs": [
    {
     "data": {
      "text/html": [
       "<div>\n",
       "<style scoped>\n",
       "    .dataframe tbody tr th:only-of-type {\n",
       "        vertical-align: middle;\n",
       "    }\n",
       "\n",
       "    .dataframe tbody tr th {\n",
       "        vertical-align: top;\n",
       "    }\n",
       "\n",
       "    .dataframe thead th {\n",
       "        text-align: right;\n",
       "    }\n",
       "</style>\n",
       "<table border=\"1\" class=\"dataframe\">\n",
       "  <thead>\n",
       "    <tr style=\"text-align: right;\">\n",
       "      <th></th>\n",
       "      <th>Year</th>\n",
       "      <th>Month</th>\n",
       "      <th>Inflation</th>\n",
       "    </tr>\n",
       "  </thead>\n",
       "  <tbody>\n",
       "    <tr>\n",
       "      <th>1</th>\n",
       "      <td>NaN</td>\n",
       "      <td>NaN</td>\n",
       "      <td>NaN</td>\n",
       "    </tr>\n",
       "    <tr>\n",
       "      <th>24</th>\n",
       "      <td>1990.0</td>\n",
       "      <td>NaN</td>\n",
       "      <td>9.2</td>\n",
       "    </tr>\n",
       "    <tr>\n",
       "      <th>90</th>\n",
       "      <td>1996.0</td>\n",
       "      <td>NaN</td>\n",
       "      <td>2.8</td>\n",
       "    </tr>\n",
       "    <tr>\n",
       "      <th>106</th>\n",
       "      <td>1997.0</td>\n",
       "      <td>NaN</td>\n",
       "      <td>2.2</td>\n",
       "    </tr>\n",
       "    <tr>\n",
       "      <th>247</th>\n",
       "      <td>NaN</td>\n",
       "      <td>NaN</td>\n",
       "      <td></td>\n",
       "    </tr>\n",
       "    <tr>\n",
       "      <th>261</th>\n",
       "      <td>2010.0</td>\n",
       "      <td>NaN</td>\n",
       "      <td>2.4</td>\n",
       "    </tr>\n",
       "  </tbody>\n",
       "</table>\n",
       "</div>"
      ],
      "text/plain": [
       "       Year Month Inflation\n",
       "1       NaN   NaN       NaN\n",
       "24   1990.0   NaN       9.2\n",
       "90   1996.0   NaN       2.8\n",
       "106  1997.0   NaN       2.2\n",
       "247     NaN   NaN          \n",
       "261  2010.0   NaN       2.4"
      ]
     },
     "execution_count": 162,
     "metadata": {},
     "output_type": "execute_result"
    }
   ],
   "source": [
    "#Show rows with missing values on a specific column name.\n",
    "df[df[\"Month\"].isna()] #also works on isnull()"
   ]
  },
  {
   "cell_type": "code",
   "execution_count": 166,
   "metadata": {},
   "outputs": [
    {
     "data": {
      "text/plain": [
       "(416, 3)"
      ]
     },
     "execution_count": 166,
     "metadata": {},
     "output_type": "execute_result"
    }
   ],
   "source": [
    "#Replace empty values with NaN in all rows\n",
    "df.fillna(\"NaN\", inplace=True)\n",
    "df.shape"
   ]
  },
  {
   "cell_type": "code",
   "execution_count": 167,
   "metadata": {},
   "outputs": [
    {
     "data": {
      "text/plain": [
       "(416, 3)"
      ]
     },
     "execution_count": 167,
     "metadata": {},
     "output_type": "execute_result"
    }
   ],
   "source": [
    "#Delete rows \n",
    "\t\t#with all columns empty values.\n",
    "df.dropna(how=\"all\", inplace=True)\n",
    "df.shape\n"
   ]
  },
  {
   "cell_type": "code",
   "execution_count": 229,
   "metadata": {},
   "outputs": [
    {
     "data": {
      "text/plain": [
       "0"
      ]
     },
     "execution_count": 229,
     "metadata": {},
     "output_type": "execute_result"
    }
   ],
   "source": [
    "#Replace NaN values in any column with the previous value.\n",
    "df[\"Inflation\"].ffill(inplace=True)\n",
    "df[\"Inflation\"].isna().sum()\n"
   ]
  },
  {
   "cell_type": "code",
   "execution_count": 271,
   "metadata": {},
   "outputs": [],
   "source": [
    "#Delete rows \n",
    "\t\t#with all columns empty values.\n",
    "x = df[(df[\"Inflation\"].isna()) & (df[\"Month\"].isna()) & (df[\"Year\"].isna())].index\n",
    "df.drop(index= x, inplace=True)"
   ]
  },
  {
   "cell_type": "code",
   "execution_count": 278,
   "metadata": {},
   "outputs": [
    {
     "data": {
      "text/plain": [
       "(402, 3)"
      ]
     },
     "execution_count": 278,
     "metadata": {},
     "output_type": "execute_result"
    }
   ],
   "source": [
    "#Delete rows \n",
    "\t\t#with empty values in any column\n",
    "df.dropna(how=\"any\", inplace=True)\n",
    "df.shape"
   ]
  },
  {
   "cell_type": "code",
   "execution_count": 280,
   "metadata": {},
   "outputs": [],
   "source": [
    "#Impute missing numerical values.\n",
    "\t#Mean Imputation: Replace missing values with the mean (average) value of the non-missing values in the same column. \n",
    "\t#This is a simple and often effective method.\n",
    "\n",
    "\n",
    "mean=df[\"Inflation\"].mean()\n",
    "df[\"Inflation\"].fillna(mean, inplace=True)\n",
    "df[\"Inflation\"].isna().sum()"
   ]
  },
  {
   "cell_type": "code",
   "execution_count": 301,
   "metadata": {},
   "outputs": [
    {
     "data": {
      "text/html": [
       "<div>\n",
       "<style scoped>\n",
       "    .dataframe tbody tr th:only-of-type {\n",
       "        vertical-align: middle;\n",
       "    }\n",
       "\n",
       "    .dataframe tbody tr th {\n",
       "        vertical-align: top;\n",
       "    }\n",
       "\n",
       "    .dataframe thead th {\n",
       "        text-align: right;\n",
       "    }\n",
       "</style>\n",
       "<table border=\"1\" class=\"dataframe\">\n",
       "  <thead>\n",
       "    <tr style=\"text-align: right;\">\n",
       "      <th></th>\n",
       "      <th>Year</th>\n",
       "      <th>Month</th>\n",
       "      <th>Inflation</th>\n",
       "    </tr>\n",
       "  </thead>\n",
       "  <tbody>\n",
       "  </tbody>\n",
       "</table>\n",
       "</div>"
      ],
      "text/plain": [
       "Empty DataFrame\n",
       "Columns: [Year, Month, Inflation]\n",
       "Index: []"
      ]
     },
     "execution_count": 301,
     "metadata": {},
     "output_type": "execute_result"
    }
   ],
   "source": [
    "#Median Imputation: Replace missing values with the median value of the non-missing values in the same column. \n",
    "\t\t\t\t   #This is less sensitive to outliers compared to mean imputation.\n",
    "\n",
    "#df[df[\"Inflation\"] == \" \"] = float(0)\n",
    "#df[\"Inflation\"] = df[\"Inflation\"].astype(float)\n",
    "#df[\"Inflation\"].dtypes\n",
    "\n",
    "\n",
    "median = df[\"Inflation\"].median()\n",
    "df[\"Inflation\"].fillna(median, inplace=True)\n",
    "df[df[\"Inflation\"].isna()]"
   ]
  },
  {
   "cell_type": "code",
   "execution_count": 316,
   "metadata": {},
   "outputs": [
    {
     "data": {
      "text/html": [
       "<div>\n",
       "<style scoped>\n",
       "    .dataframe tbody tr th:only-of-type {\n",
       "        vertical-align: middle;\n",
       "    }\n",
       "\n",
       "    .dataframe tbody tr th {\n",
       "        vertical-align: top;\n",
       "    }\n",
       "\n",
       "    .dataframe thead th {\n",
       "        text-align: right;\n",
       "    }\n",
       "</style>\n",
       "<table border=\"1\" class=\"dataframe\">\n",
       "  <thead>\n",
       "    <tr style=\"text-align: right;\">\n",
       "      <th></th>\n",
       "      <th>Year</th>\n",
       "      <th>Month</th>\n",
       "      <th>Inflation</th>\n",
       "    </tr>\n",
       "  </thead>\n",
       "  <tbody>\n",
       "  </tbody>\n",
       "</table>\n",
       "</div>"
      ],
      "text/plain": [
       "Empty DataFrame\n",
       "Columns: [Year, Month, Inflation]\n",
       "Index: []"
      ]
     },
     "execution_count": 316,
     "metadata": {},
     "output_type": "execute_result"
    }
   ],
   "source": [
    "#Mode Imputation: For discrete or categorical data, \n",
    "#you can replace missing values with the mode (most frequent) value in the same column.\n",
    "\n",
    "#df[df[\"Inflation\"] == \" \"] = float(0)\n",
    "#df[\"Inflation\"] = df[\"Inflation\"].astype(float)\n",
    "#df[\"Inflation\"].dtypes\n",
    "\n",
    "mode = df[\"Inflation\"].mode()\n",
    "\n",
    "#convert series to float\n",
    "mode = float(mode.iloc[0])\n",
    "\n",
    "df[\"Inflation\"].fillna(mo, inplace=True)\n",
    "df[df[\"Inflation\"].isna()]\n",
    "\n",
    "\n"
   ]
  },
  {
   "cell_type": "code",
   "execution_count": 79,
   "metadata": {},
   "outputs": [
    {
     "data": {
      "text/plain": [
       "0"
      ]
     },
     "execution_count": 79,
     "metadata": {},
     "output_type": "execute_result"
    }
   ],
   "source": [
    "#Interpolation: For time-series data, you can use interpolation methods to estimate missing values based on the values \n",
    "#before and after the missing point in time.\n",
    "\n",
    "df[\"Year\"].interpolate(method=\"linear\")\n",
    "df[\"Year\"].isna().sum()\n",
    "\n",
    "\n"
   ]
  },
  {
   "cell_type": "code",
   "execution_count": 113,
   "metadata": {},
   "outputs": [
    {
     "data": {
      "text/html": [
       "<div>\n",
       "<style scoped>\n",
       "    .dataframe tbody tr th:only-of-type {\n",
       "        vertical-align: middle;\n",
       "    }\n",
       "\n",
       "    .dataframe tbody tr th {\n",
       "        vertical-align: top;\n",
       "    }\n",
       "\n",
       "    .dataframe thead th {\n",
       "        text-align: right;\n",
       "    }\n",
       "</style>\n",
       "<table border=\"1\" class=\"dataframe\">\n",
       "  <thead>\n",
       "    <tr style=\"text-align: right;\">\n",
       "      <th></th>\n",
       "      <th>Year</th>\n",
       "      <th>Month</th>\n",
       "      <th>Inflation</th>\n",
       "    </tr>\n",
       "  </thead>\n",
       "  <tbody>\n",
       "    <tr>\n",
       "      <th>1</th>\n",
       "      <td>NaN</td>\n",
       "      <td>NaN</td>\n",
       "      <td>NaN</td>\n",
       "    </tr>\n",
       "    <tr>\n",
       "      <th>31</th>\n",
       "      <td>1991.0</td>\n",
       "      <td>JUL</td>\n",
       "      <td>NaN</td>\n",
       "    </tr>\n",
       "    <tr>\n",
       "      <th>116</th>\n",
       "      <td>1998.0</td>\n",
       "      <td>AUG</td>\n",
       "      <td>NaN</td>\n",
       "    </tr>\n",
       "    <tr>\n",
       "      <th>140</th>\n",
       "      <td>2000.0</td>\n",
       "      <td>AUG</td>\n",
       "      <td>NaN</td>\n",
       "    </tr>\n",
       "    <tr>\n",
       "      <th>158</th>\n",
       "      <td>2002.0</td>\n",
       "      <td>FEB</td>\n",
       "      <td>NaN</td>\n",
       "    </tr>\n",
       "  </tbody>\n",
       "</table>\n",
       "</div>"
      ],
      "text/plain": [
       "       Year Month Inflation\n",
       "1       NaN   NaN       NaN\n",
       "31   1991.0   JUL       NaN\n",
       "116  1998.0   AUG       NaN\n",
       "140  2000.0   AUG       NaN\n",
       "158  2002.0   FEB       NaN"
      ]
     },
     "execution_count": 113,
     "metadata": {},
     "output_type": "execute_result"
    }
   ],
   "source": [
    "df[df[\"Inflation\"].isna()]"
   ]
  },
  {
   "cell_type": "code",
   "execution_count": 157,
   "metadata": {},
   "outputs": [],
   "source": [
    "#Drop columns with more than 15% percentage of missing values.\n",
    "\t\t#For one specific column\n",
    "\n",
    "if df[\"Inflation\"].isna().sum() / df.shape[0] > 0.15:\n",
    "\tdf.dropna(subset=\"Inflation\", inplace=True)\n",
    "    \n"
   ]
  },
  {
   "cell_type": "code",
   "execution_count": 170,
   "metadata": {},
   "outputs": [],
   "source": [
    "#Drop columns with more than 15% percentage of missing values.\n",
    "\t\t#For all columns\n",
    "if df[\"Inflation\"].isna().sum() / df.shape[0] > 0.15:\n",
    "    df.dropna(inplace=True)\n"
   ]
  },
  {
   "cell_type": "code",
   "execution_count": 190,
   "metadata": {},
   "outputs": [
    {
     "name": "stdout",
     "output_type": "stream",
     "text": [
      "Column Year has 53 values duplicated.\n",
      "Column Month has 48 values duplicated.\n",
      "Column Inflation has 28 values duplicated.\n",
      "Column Year has 0 values duplicated.\n",
      "Column Month has 0 values duplicated.\n",
      "Column Inflation has 0 values duplicated.\n"
     ]
    }
   ],
   "source": [
    "#Handling Duplicates:\n",
    "\t#Detect and remove all duplicated rows for all columns.\n",
    "for column in df.columns:\n",
    "    print(\"Column\", column, \"has\", df.duplicated(subset=column).sum(), \"values duplicated.\")\n",
    "\n",
    "df.drop_duplicates(inplace=True)\n",
    "\n",
    "for column in df.columns:\n",
    "    df.drop_duplicates(subset=column, inplace=True)\n",
    "    print(\"Column\", column, \"has\", df.duplicated(subset=column).sum(), \"values duplicated.\")"
   ]
  },
  {
   "cell_type": "code",
   "execution_count": 205,
   "metadata": {},
   "outputs": [
    {
     "name": "stdout",
     "output_type": "stream",
     "text": [
      "Column Year has 74 duplicated values.\n",
      "Column Month has 69 duplicated values.\n",
      "Column Year has 0 duplicated values.\n",
      "Column Month has 0 duplicated values.\n"
     ]
    }
   ],
   "source": [
    "#Detect and remove all duplicated rows for a group of columns.\n",
    "\n",
    "columns = [\"Year\", \"Month\"]\n",
    "\n",
    "for column in columns:\n",
    "    print(\"Column\", column, \"has\", df.duplicated(subset=column).sum(), \"duplicated values.\")\n",
    "\n",
    "\n",
    "for column in columns:\n",
    "    df.drop_duplicates(subset=column, inplace= True)\n",
    "    print(\"Column\", column, \"has\", df.duplicated(subset=column).sum(), \"duplicated values.\")"
   ]
  },
  {
   "cell_type": "code",
   "execution_count": 244,
   "metadata": {},
   "outputs": [
    {
     "name": "stdout",
     "output_type": "stream",
     "text": [
      "Column Year has 74 duplicated values.\n",
      "Column Month has 69 duplicated values.\n",
      "Column Year has 0 duplicated values.\n",
      "Column Month has 0 duplicated values.\n"
     ]
    }
   ],
   "source": [
    "#Detect and remove all duplicated rows for a group of columns. Drop all except first occurrence\n",
    "\n",
    "columns = [\"Year\", \"Month\"]\n",
    "\n",
    "for column in columns:\n",
    "    print(\"Column\", column, \"has\", df.duplicated(subset=column).sum(), \"duplicated values.\")\n",
    "\n",
    "\n",
    "for column in columns:\n",
    "    df.drop_duplicates(subset=column, inplace= True, keep=\"first\")\n",
    "    print(\"Column\", column, \"has\", df.duplicated(subset=column).sum(), \"duplicated values.\")"
   ]
  },
  {
   "cell_type": "code",
   "execution_count": 262,
   "metadata": {},
   "outputs": [
    {
     "name": "stdout",
     "output_type": "stream",
     "text": [
      "<class 'pandas.core.frame.DataFrame'>\n",
      "RangeIndex: 82 entries, 0 to 81\n",
      "Data columns (total 3 columns):\n",
      " #   Column     Non-Null Count  Dtype \n",
      "---  ------     --------------  ----- \n",
      " 0   Year       77 non-null     object\n",
      " 1   Month      80 non-null     object\n",
      " 2   Inflation  65 non-null     object\n",
      "dtypes: object(3)\n",
      "memory usage: 2.1+ KB\n"
     ]
    }
   ],
   "source": [
    "#Data Type Conversion:\n",
    "\t#Convert all numeric columns to string\n",
    "for column in df.columns:\n",
    "    df[column] = df[column].astype(\"object\")\n",
    "    \n",
    "df.info()"
   ]
  },
  {
   "cell_type": "markdown",
   "metadata": {},
   "source": []
  },
  {
   "cell_type": "code",
   "execution_count": 265,
   "metadata": {},
   "outputs": [],
   "source": [
    "#Convert one integer column to string\n",
    "df[\"Year\"] = df[\"Year\"].astype(str)"
   ]
  },
  {
   "cell_type": "code",
   "execution_count": 270,
   "metadata": {},
   "outputs": [
    {
     "data": {
      "text/html": [
       "<div>\n",
       "<style scoped>\n",
       "    .dataframe tbody tr th:only-of-type {\n",
       "        vertical-align: middle;\n",
       "    }\n",
       "\n",
       "    .dataframe tbody tr th {\n",
       "        vertical-align: top;\n",
       "    }\n",
       "\n",
       "    .dataframe thead th {\n",
       "        text-align: right;\n",
       "    }\n",
       "</style>\n",
       "<table border=\"1\" class=\"dataframe\">\n",
       "  <thead>\n",
       "    <tr style=\"text-align: right;\">\n",
       "      <th></th>\n",
       "      <th>Year</th>\n",
       "      <th>Month</th>\n",
       "      <th>Inflation</th>\n",
       "    </tr>\n",
       "  </thead>\n",
       "  <tbody>\n",
       "    <tr>\n",
       "      <th>0</th>\n",
       "      <td>1989.0</td>\n",
       "      <td>JAN</td>\n",
       "      <td>5.7</td>\n",
       "    </tr>\n",
       "    <tr>\n",
       "      <th>2</th>\n",
       "      <td>1989.0</td>\n",
       "      <td>FEB</td>\n",
       "      <td>5.8</td>\n",
       "    </tr>\n",
       "    <tr>\n",
       "      <th>3</th>\n",
       "      <td>1989.0</td>\n",
       "      <td>MAR</td>\n",
       "      <td>5.9</td>\n",
       "    </tr>\n",
       "    <tr>\n",
       "      <th>4</th>\n",
       "      <td>1989.0</td>\n",
       "      <td>APR</td>\n",
       "      <td>5.6</td>\n",
       "    </tr>\n",
       "    <tr>\n",
       "      <th>5</th>\n",
       "      <td>1989.0</td>\n",
       "      <td>MAY</td>\n",
       "      <td>5.9</td>\n",
       "    </tr>\n",
       "    <tr>\n",
       "      <th>6</th>\n",
       "      <td>1989.0</td>\n",
       "      <td>JUN</td>\n",
       "      <td>5.8</td>\n",
       "    </tr>\n",
       "    <tr>\n",
       "      <th>7</th>\n",
       "      <td>1989.0</td>\n",
       "      <td>JUL</td>\n",
       "      <td>5.7</td>\n",
       "    </tr>\n",
       "    <tr>\n",
       "      <th>8</th>\n",
       "      <td>1989.0</td>\n",
       "      <td>AUG</td>\n",
       "      <td>5.5</td>\n",
       "    </tr>\n",
       "    <tr>\n",
       "      <th>9</th>\n",
       "      <td>1989.0</td>\n",
       "      <td>SEP</td>\n",
       "      <td>5.7</td>\n",
       "    </tr>\n",
       "    <tr>\n",
       "      <th>11</th>\n",
       "      <td>1989.0</td>\n",
       "      <td>NOV</td>\n",
       "      <td>5.7</td>\n",
       "    </tr>\n",
       "    <tr>\n",
       "      <th>12</th>\n",
       "      <td>1989.0</td>\n",
       "      <td>DEC</td>\n",
       "      <td>5.8</td>\n",
       "    </tr>\n",
       "    <tr>\n",
       "      <th>13</th>\n",
       "      <td>1990.0</td>\n",
       "      <td>JAN</td>\n",
       "      <td>5.9</td>\n",
       "    </tr>\n",
       "    <tr>\n",
       "      <th>14</th>\n",
       "      <td>1990.0</td>\n",
       "      <td>FEB</td>\n",
       "      <td>6.3</td>\n",
       "    </tr>\n",
       "    <tr>\n",
       "      <th>15</th>\n",
       "      <td>1990.0</td>\n",
       "      <td>MAR</td>\n",
       "      <td>6.2</td>\n",
       "    </tr>\n",
       "    <tr>\n",
       "      <th>17</th>\n",
       "      <td>1990.0</td>\n",
       "      <td>MAY</td>\n",
       "      <td>8.2</td>\n",
       "    </tr>\n",
       "    <tr>\n",
       "      <th>18</th>\n",
       "      <td>1990.0</td>\n",
       "      <td>JUN</td>\n",
       "      <td>8.2</td>\n",
       "    </tr>\n",
       "    <tr>\n",
       "      <th>20</th>\n",
       "      <td>1990.0</td>\n",
       "      <td>AUG</td>\n",
       "      <td>8.9</td>\n",
       "    </tr>\n",
       "    <tr>\n",
       "      <th>22</th>\n",
       "      <td>1990.0</td>\n",
       "      <td>OCT</td>\n",
       "      <td>9.2</td>\n",
       "    </tr>\n",
       "    <tr>\n",
       "      <th>24</th>\n",
       "      <td>1990.0</td>\n",
       "      <td>NaN</td>\n",
       "      <td>9.2</td>\n",
       "    </tr>\n",
       "    <tr>\n",
       "      <th>25</th>\n",
       "      <td>1991.0</td>\n",
       "      <td>JAN</td>\n",
       "      <td>8.6</td>\n",
       "    </tr>\n",
       "    <tr>\n",
       "      <th>26</th>\n",
       "      <td>1991.0</td>\n",
       "      <td>FEB</td>\n",
       "      <td>8.2</td>\n",
       "    </tr>\n",
       "    <tr>\n",
       "      <th>27</th>\n",
       "      <td>1991.0</td>\n",
       "      <td>MAR</td>\n",
       "      <td>8.3</td>\n",
       "    </tr>\n",
       "    <tr>\n",
       "      <th>28</th>\n",
       "      <td>1991.0</td>\n",
       "      <td>APR</td>\n",
       "      <td>8.0</td>\n",
       "    </tr>\n",
       "    <tr>\n",
       "      <th>29</th>\n",
       "      <td>1991.0</td>\n",
       "      <td>MAY</td>\n",
       "      <td>7.5</td>\n",
       "    </tr>\n",
       "    <tr>\n",
       "      <th>30</th>\n",
       "      <td>1991.0</td>\n",
       "      <td>JUN</td>\n",
       "      <td>7.7</td>\n",
       "    </tr>\n",
       "    <tr>\n",
       "      <th>32</th>\n",
       "      <td>1991.0</td>\n",
       "      <td>AUG</td>\n",
       "      <td>7.5</td>\n",
       "    </tr>\n",
       "    <tr>\n",
       "      <th>33</th>\n",
       "      <td>nan</td>\n",
       "      <td>SEP</td>\n",
       "      <td>6.9</td>\n",
       "    </tr>\n",
       "    <tr>\n",
       "      <th>34</th>\n",
       "      <td>nan</td>\n",
       "      <td>OCT</td>\n",
       "      <td>6.5</td>\n",
       "    </tr>\n",
       "    <tr>\n",
       "      <th>35</th>\n",
       "      <td>nan</td>\n",
       "      <td>NOV</td>\n",
       "      <td>6.5</td>\n",
       "    </tr>\n",
       "    <tr>\n",
       "      <th>36</th>\n",
       "      <td>1991.0</td>\n",
       "      <td>DEC</td>\n",
       "      <td>6.5</td>\n",
       "    </tr>\n",
       "    <tr>\n",
       "      <th>38</th>\n",
       "      <td>1992.0</td>\n",
       "      <td>FEB</td>\n",
       "      <td>6.3</td>\n",
       "    </tr>\n",
       "    <tr>\n",
       "      <th>39</th>\n",
       "      <td>1992.0</td>\n",
       "      <td>MAR</td>\n",
       "      <td>6.2</td>\n",
       "    </tr>\n",
       "    <tr>\n",
       "      <th>41</th>\n",
       "      <td>1992.0</td>\n",
       "      <td>MAY</td>\n",
       "      <td>5.1</td>\n",
       "    </tr>\n",
       "    <tr>\n",
       "      <th>42</th>\n",
       "      <td>1992.0</td>\n",
       "      <td>JUN</td>\n",
       "      <td>4.6</td>\n",
       "    </tr>\n",
       "  </tbody>\n",
       "</table>\n",
       "</div>"
      ],
      "text/plain": [
       "      Year Month  Inflation\n",
       "0   1989.0   JAN        5.7\n",
       "2   1989.0   FEB        5.8\n",
       "3   1989.0   MAR        5.9\n",
       "4   1989.0   APR        5.6\n",
       "5   1989.0   MAY        5.9\n",
       "6   1989.0   JUN        5.8\n",
       "7   1989.0   JUL        5.7\n",
       "8   1989.0   AUG        5.5\n",
       "9   1989.0   SEP        5.7\n",
       "11  1989.0   NOV        5.7\n",
       "12  1989.0   DEC        5.8\n",
       "13  1990.0   JAN        5.9\n",
       "14  1990.0   FEB        6.3\n",
       "15  1990.0   MAR        6.2\n",
       "17  1990.0   MAY        8.2\n",
       "18  1990.0   JUN        8.2\n",
       "20  1990.0   AUG        8.9\n",
       "22  1990.0   OCT        9.2\n",
       "24  1990.0   NaN        9.2\n",
       "25  1991.0   JAN        8.6\n",
       "26  1991.0   FEB        8.2\n",
       "27  1991.0   MAR        8.3\n",
       "28  1991.0   APR        8.0\n",
       "29  1991.0   MAY        7.5\n",
       "30  1991.0   JUN        7.7\n",
       "32  1991.0   AUG        7.5\n",
       "33     nan   SEP        6.9\n",
       "34     nan   OCT        6.5\n",
       "35     nan   NOV        6.5\n",
       "36  1991.0   DEC        6.5\n",
       "38  1992.0   FEB        6.3\n",
       "39  1992.0   MAR        6.2\n",
       "41  1992.0   MAY        5.1\n",
       "42  1992.0   JUN        4.6"
      ]
     },
     "execution_count": 270,
     "metadata": {},
     "output_type": "execute_result"
    }
   ],
   "source": [
    "#Convert any values column based on data, if value > 4 convert the value/2\n",
    "df[df[\"Inflation\"] > 4] = df[\"Inflation\"] /2\n",
    "df[\"Inflation\"]"
   ]
  },
  {
   "cell_type": "code",
   "execution_count": 285,
   "metadata": {},
   "outputs": [],
   "source": [
    "#Convert any values column based on data, if value > 4 convert the value/2\n",
    "df.loc[df[\"Inflation\"] > 4, \"Inflation\"] = df[\"Inflation\"] /2\n"
   ]
  },
  {
   "cell_type": "code",
   "execution_count": 288,
   "metadata": {},
   "outputs": [
    {
     "data": {
      "text/plain": [
       "Index(['Año', 'Month', 'Inflation'], dtype='object')"
      ]
     },
     "execution_count": 288,
     "metadata": {},
     "output_type": "execute_result"
    }
   ],
   "source": [
    "#Renaming Columns:\n",
    "\t#Rename column by name\n",
    "df.rename(columns = {\"Year\": \"Año\"}, inplace=True)\n",
    "df.columns"
   ]
  },
  {
   "cell_type": "code",
   "execution_count": 290,
   "metadata": {},
   "outputs": [
    {
     "data": {
      "text/plain": [
       "Index(['Añito', 'Mesito', 'Inflation'], dtype='object')"
      ]
     },
     "execution_count": 290,
     "metadata": {},
     "output_type": "execute_result"
    }
   ],
   "source": [
    "#Rename a list of columns\n",
    "rename = {\"Year\" : \"Añito\", \"Month\" : \"Mesito\"}\n",
    "df.rename(columns=rename, inplace=True)\n",
    "df.columns"
   ]
  },
  {
   "cell_type": "code",
   "execution_count": 303,
   "metadata": {},
   "outputs": [
    {
     "data": {
      "text/plain": [
       "0     JAN\n",
       "1     NaN\n",
       "2     FEB\n",
       "3     MAR\n",
       "4     APR\n",
       "     ... \n",
       "77    MAY\n",
       "78    JUN\n",
       "79    JUL\n",
       "80    AUG\n",
       "81    SEP\n",
       "Name: Month, Length: 82, dtype: object"
      ]
     },
     "execution_count": 303,
     "metadata": {},
     "output_type": "execute_result"
    }
   ],
   "source": [
    "df[\"Month\"]"
   ]
  },
  {
   "cell_type": "code",
   "execution_count": 313,
   "metadata": {},
   "outputs": [
    {
     "data": {
      "text/plain": [
       "0     jan\n",
       "1     NaN\n",
       "2     feb\n",
       "3     mar\n",
       "4     apr\n",
       "     ... \n",
       "77    may\n",
       "78    jun\n",
       "79    jul\n",
       "80    aug\n",
       "81    sep\n",
       "Name: Month, Length: 82, dtype: object"
      ]
     },
     "execution_count": 313,
     "metadata": {},
     "output_type": "execute_result"
    }
   ],
   "source": [
    "#Standardizing Text Data:\n",
    "\t#Standardize text data in any columnconverting strings to lowercase \n",
    "df[\"Month\"] = df[\"Month\"].str.lower()    \n",
    "df[\"Month\"]"
   ]
  },
  {
   "cell_type": "code",
   "execution_count": null,
   "metadata": {},
   "outputs": [],
   "source": []
  }
 ],
 "metadata": {
  "kernelspec": {
   "display_name": "venv",
   "language": "python",
   "name": "python3"
  },
  "language_info": {
   "codemirror_mode": {
    "name": "ipython",
    "version": 3
   },
   "file_extension": ".py",
   "mimetype": "text/x-python",
   "name": "python",
   "nbconvert_exporter": "python",
   "pygments_lexer": "ipython3",
   "version": "3.11.4"
  },
  "orig_nbformat": 4
 },
 "nbformat": 4,
 "nbformat_minor": 2
}
